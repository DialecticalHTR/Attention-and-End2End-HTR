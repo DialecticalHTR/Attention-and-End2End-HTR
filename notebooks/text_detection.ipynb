{
 "cells": [
  {
   "cell_type": "code",
   "execution_count": 1,
   "metadata": {
    "collapsed": true,
    "pycharm": {
     "name": "#%%\n"
    }
   },
   "outputs": [
    {
     "name": "stderr",
     "output_type": "stream",
     "text": [
      "/Users/anastasiabogatenkova/miniconda3/envs/doc/lib/python3.9/site-packages/tqdm/auto.py:22: TqdmWarning: IProgress not found. Please update jupyter and ipywidgets. See https://ipywidgets.readthedocs.io/en/stable/user_install.html\n",
      "  from .autonotebook import tqdm as notebook_tqdm\n"
     ]
    }
   ],
   "source": [
    "import json\n",
    "import os\n",
    "import json\n",
    "\n",
    "import numpy as np\n",
    "from doctr.datasets import DocArtefacts"
   ]
  },
  {
   "cell_type": "code",
   "execution_count": 2,
   "outputs": [
    {
     "data": {
      "text/plain": "{'boxes': array([[0.94375   , 0.4013672 , 0.99375   , 0.43652344],\n        [0.03125   , 0.6923828 , 0.07875   , 0.7294922 ],\n        [0.1975    , 0.17480469, 0.39875   , 0.22167969],\n        [0.3675    , 0.6220703 , 0.39875   , 0.6464844 ],\n        [0.41625   , 0.625     , 0.5925    , 0.6425781 ],\n        [0.28      , 0.00976562, 0.34625   , 0.06152344],\n        [0.0075    , 0.08789062, 0.09625   , 0.15722656],\n        [0.49875   , 0.19824219, 0.69375   , 0.35058594],\n        [0.05625   , 0.73828125, 0.24875   , 0.92285156],\n        [0.725     , 0.15234375, 0.84625   , 0.2685547 ]], dtype=float32),\n 'labels': array([2, 1, 2, 1, 1, 3, 3, 3, 4, 4])}"
     },
     "execution_count": 2,
     "metadata": {},
     "output_type": "execute_result"
    }
   ],
   "source": [
    "train_set = DocArtefacts(train=True, download=False)\n",
    "img, target = train_set[0]\n",
    "target"
   ],
   "metadata": {
    "collapsed": false,
    "pycharm": {
     "name": "#%%\n"
    }
   }
  },
  {
   "cell_type": "code",
   "execution_count": 3,
   "outputs": [],
   "source": [
    "# from doctr.datasets import DetectionDataset\n",
    "# train_set = DetectionDataset(img_folder=\"data/images\",\n",
    "#                              label_path=\"data/labels.json\")\n"
   ],
   "metadata": {
    "collapsed": false,
    "pycharm": {
     "name": "#%%\n"
    }
   }
  },
  {
   "cell_type": "code",
   "execution_count": null,
   "outputs": [],
   "source": [],
   "metadata": {
    "collapsed": false,
    "pycharm": {
     "name": "#%%\n"
    }
   }
  }
 ],
 "metadata": {
  "kernelspec": {
   "display_name": "Python 3",
   "language": "python",
   "name": "python3"
  },
  "language_info": {
   "codemirror_mode": {
    "name": "ipython",
    "version": 2
   },
   "file_extension": ".py",
   "mimetype": "text/x-python",
   "name": "python",
   "nbconvert_exporter": "python",
   "pygments_lexer": "ipython2",
   "version": "2.7.6"
  }
 },
 "nbformat": 4,
 "nbformat_minor": 0
}