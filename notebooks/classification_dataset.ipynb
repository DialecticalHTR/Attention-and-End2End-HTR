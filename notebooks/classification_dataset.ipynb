{
 "cells": [
  {
   "cell_type": "code",
   "execution_count": 1,
   "metadata": {
    "collapsed": true,
    "pycharm": {
     "name": "#%%\n"
    }
   },
   "outputs": [
    {
     "name": "stderr",
     "output_type": "stream",
     "text": [
      "/Users/anastasiabogatenkova/miniconda3/envs/doc/lib/python3.9/site-packages/tqdm/auto.py:22: TqdmWarning: IProgress not found. Please update jupyter and ipywidgets. See https://ipywidgets.readthedocs.io/en/stable/user_install.html\n",
      "  from .autonotebook import tqdm as notebook_tqdm\n"
     ]
    }
   ],
   "source": [
    "import json\n",
    "import os\n",
    "import json\n",
    "\n",
    "import numpy as np\n",
    "from doctr.datasets import SROIE, FUNSD\n",
    "import matplotlib.pyplot as plt\n",
    "import cv2"
   ]
  },
  {
   "cell_type": "code",
   "execution_count": 26,
   "outputs": [],
   "source": [
    "train_set = SROIE(train=True, download=False)\n",
    "img, target = train_set[0]\n",
    "\n",
    "boxes = target['boxes']\n",
    "img = img * 255\n",
    "img = img.int().numpy()\n",
    "img = np.moveaxis(img, 0, -1)"
   ],
   "metadata": {
    "collapsed": false,
    "pycharm": {
     "name": "#%%\n"
    }
   }
  },
  {
   "cell_type": "code",
   "execution_count": 27,
   "outputs": [
    {
     "name": "stdout",
     "output_type": "stream",
     "text": [
      "(1528, 1080, 3)\n",
      "[0.3462963  0.20615183 0.61388886 0.21662304]\n"
     ]
    },
    {
     "data": {
      "text/plain": "<Figure size 432x288 with 1 Axes>",
      "image/png": "[encoded data removed]"
     },
     "metadata": {
      "needs_background": "light"
     },
     "output_type": "display_data"
    }
   ],
   "source": [
    "im_h, im_w, _ = img.shape\n",
    "print(img.shape)\n",
    "\n",
    "for box in boxes:\n",
    "    x1, y1, x2, y2 = int(box[0] * im_w), int(box[1] * im_h), int(box[2] * im_w), int(box[3] * im_h)\n",
    "    print(box)\n",
    "    plt.imshow(img[y1:y2, x1:x2])\n",
    "    break"
   ],
   "metadata": {
    "collapsed": false,
    "pycharm": {
     "name": "#%%\n"
    }
   }
  },
  {
   "cell_type": "code",
   "execution_count": 30,
   "outputs": [],
   "source": [
    "out_dir = \"../datasets/classification\"\n",
    "\n",
    "prefix = \"SROIE\"\n",
    "i = 0\n",
    "for img, target in train_set:\n",
    "    boxes = target['boxes']\n",
    "    img = img * 255\n",
    "    img = img.int().numpy()\n",
    "    img = np.moveaxis(img, 0, -1)\n",
    "    im_h, im_w, _ = img.shape\n",
    "    for box in boxes:\n",
    "        x1, y1, x2, y2 = int(box[0] * im_w), int(box[1] * im_h), int(box[2] * im_w), int(box[3] * im_h)\n",
    "        cv2.imwrite(os.path.join(out_dir, prefix, f\"{prefix}_{i}.png\"), img[y1:y2, x1:x2])\n",
    "        i += 1"
   ],
   "metadata": {
    "collapsed": false,
    "pycharm": {
     "name": "#%%\n"
    }
   }
  },
  {
   "cell_type": "code",
   "execution_count": 33,
   "outputs": [],
   "source": [
    "train_set = FUNSD(train=True, download=False)\n",
    "\n",
    "prefix = \"FUNSD\"\n",
    "i = 0\n",
    "for img, target in train_set:\n",
    "    boxes = target['boxes']\n",
    "    img = img * 255\n",
    "    img = img.int().numpy()\n",
    "    img = np.moveaxis(img, 0, -1)\n",
    "    im_h, im_w, _ = img.shape\n",
    "    for box in boxes:\n",
    "        x1, y1, x2, y2 = int(box[0] * im_w), int(box[1] * im_h), int(box[2] * im_w), int(box[3] * im_h)\n",
    "        cv2.imwrite(os.path.join(out_dir, prefix, f\"{prefix}_{i}.png\"), img[y1:y2, x1:x2])\n",
    "        i += 1"
   ],
   "metadata": {
    "collapsed": false,
    "pycharm": {
     "name": "#%%\n"
    }
   }
  },
  {
   "cell_type": "code",
   "execution_count": 35,
   "outputs": [],
   "source": [
    "import tempfile\n",
    "import zipfile\n",
    "\n",
    "laws_dir = \"/Users/anastasiabogatenkova/Downloads/law_with_cellar/original_documents\"\n",
    "prefix = \"russian_raw\"\n",
    "\n",
    "for file_name in os.listdir(laws_dir):\n",
    "    if not file_name.endswith(\".zip\"):\n",
    "        continue\n",
    "    with tempfile.TemporaryDirectory() as tmpdir:\n",
    "        with zipfile.ZipFile(os.path.join(laws_dir, file_name), \"r\") as z_f:\n",
    "            z_f.extractall(tmpdir)\n",
    "        for img_name in os.listdir(tmpdir):\n",
    "            if not img_name.endswith(\".png\"):\n",
    "                continue\n",
    "            os.replace(os.path.join(tmpdir, img_name), os.path.join(out_dir, prefix, img_name))"
   ],
   "metadata": {
    "collapsed": false,
    "pycharm": {
     "name": "#%%\n"
    }
   }
  },
  {
   "cell_type": "code",
   "execution_count": 2,
   "outputs": [],
   "source": [
    "from doctr.models import detection_predictor\n",
    "\n",
    "model = detection_predictor(arch='db_resnet50', pretrained=True).eval()\n",
    "\n",
    "def get_bboxes(img_path: str):\n",
    "    img = cv2.imread(img_path)\n",
    "    out = model([img])\n",
    "    h, w, _ = img.shape\n",
    "    bboxes = [(int(box[0] * w), int(box[1] * h), int(box[2] * w), int(box[3] * h)) for box in out[0]]\n",
    "    return bboxes"
   ],
   "metadata": {
    "collapsed": false,
    "pycharm": {
     "name": "#%%\n"
    }
   }
  },
  {
   "cell_type": "code",
   "execution_count": 4,
   "outputs": [],
   "source": [
    "out_dir = \"../datasets/classification\"\n",
    "in_prefix = \"russian_raw\"\n",
    "prefix = \"RUS\"\n",
    "i = 0\n",
    "for img_name in os.listdir(os.path.join(out_dir, in_prefix)):\n",
    "    if not img_name.endswith(\".png\"):\n",
    "        continue\n",
    "    boxes = get_bboxes(os.path.join(out_dir, in_prefix, img_name))\n",
    "    img = cv2.imread(os.path.join(out_dir, in_prefix, img_name))\n",
    "    for bbox in boxes:\n",
    "        cv2.imwrite(os.path.join(out_dir, prefix, f\"{prefix}_{i}.png\"), img[bbox[1]:bbox[3],bbox[0]:bbox[2]])\n",
    "        i += 1"
   ],
   "metadata": {
    "collapsed": false,
    "pycharm": {
     "name": "#%%\n"
    }
   }
  },
  {
   "cell_type": "code",
   "execution_count": null,
   "outputs": [],
   "source": [],
   "metadata": {
    "collapsed": false,
    "pycharm": {
     "name": "#%%\n"
    }
   }
  }
 ],
 "metadata": {
  "kernelspec": {
   "display_name": "Python 3",
   "language": "python",
   "name": "python3"
  },
  "language_info": {
   "codemirror_mode": {
    "name": "ipython",
    "version": 2
   },
   "file_extension": ".py",
   "mimetype": "text/x-python",
   "name": "python",
   "nbconvert_exporter": "python",
   "pygments_lexer": "ipython2",
   "version": "2.7.6"
  }
 },
 "nbformat": 4,
 "nbformat_minor": 0
}