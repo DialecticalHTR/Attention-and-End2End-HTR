{
 "cells": [
  {
   "cell_type": "code",
   "execution_count": 2,
   "metadata": {
    "collapsed": true
   },
   "outputs": [
    {
     "name": "stderr",
     "output_type": "stream",
     "text": [
      "/Users/anastasiabogatenkova/miniconda3/envs/doc/lib/python3.9/site-packages/torch/nn/functional.py:718: UserWarning: Named tensors and all their associated APIs are an experimental feature and subject to change. Please do not use them for anything important until they are released as stable. (Triggered internally at  ../c10/core/TensorImpl.h:1156.)\n",
      "  return torch.max_pool2d(input, kernel_size, stride, padding, dilation, ceil_mode)\n"
     ]
    }
   ],
   "source": [
    "from typing import List\n",
    "import cv2\n",
    "import os\n",
    "from doctr.models import detection_predictor\n",
    "\n",
    "model = detection_predictor(arch='db_resnet50', pretrained=True).eval()\n",
    "\n",
    "def get_bboxes(img_path: str) -> List[tuple]:\n",
    "    img = cv2.imread(img_path)\n",
    "    out = model([img])\n",
    "    h, w, _ = img.shape\n",
    "    bboxes = [(int(box[0] * w), int(box[1] * h), int(box[2] * w), int(box[3] * h)) for box in out[0]]\n",
    "    return bboxes"
   ]
  },
  {
   "cell_type": "code",
   "execution_count": 24,
   "outputs": [],
   "source": [
    "img_path = \"../data/lising/IMG_20220425_125413.jpg\" # handwritten\n",
    "# img_path = \"../data/lising/IMG_20220425_142023.jpg\" # typewritten\n",
    "\n",
    "bboxes = get_bboxes(img_path)"
   ],
   "metadata": {
    "collapsed": false,
    "pycharm": {
     "name": "#%%\n"
    }
   }
  },
  {
   "cell_type": "code",
   "execution_count": 25,
   "outputs": [],
   "source": [
    "import sys\n",
    "\n",
    "sys.path.append(\"..\")\n",
    "from lines_segmentation.binarization import binarize\n",
    "\n",
    "img = cv2.imread(img_path)\n",
    "img = binarize(img)\n",
    "\n",
    "for i, bbox in enumerate(bboxes):\n",
    "    cv2.imwrite(f\"../data/words/handwritten_{i}.png\", img[bbox[1]:bbox[3],bbox[0]:bbox[2]])"
   ],
   "metadata": {
    "collapsed": false,
    "pycharm": {
     "name": "#%%\n"
    }
   }
  }
 ],
 "metadata": {
  "kernelspec": {
   "display_name": "Python 3",
   "language": "python",
   "name": "python3"
  },
  "language_info": {
   "codemirror_mode": {
    "name": "ipython",
    "version": 2
   },
   "file_extension": ".py",
   "mimetype": "text/x-python",
   "name": "python",
   "nbconvert_exporter": "python",
   "pygments_lexer": "ipython2",
   "version": "2.7.6"
  }
 },
 "nbformat": 4,
 "nbformat_minor": 0
}